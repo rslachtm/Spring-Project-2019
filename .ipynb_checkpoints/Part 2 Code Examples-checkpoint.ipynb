{
 "cells": [
  {
   "cell_type": "code",
   "execution_count": null,
   "metadata": {},
   "outputs": [],
   "source": [
    "import json\n",
    "import pandas as pd\n",
    "import requests"
   ]
  },
  {
   "cell_type": "code",
   "execution_count": null,
   "metadata": {},
   "outputs": [],
   "source": [
    "classes = pd.read_csv('Class Codes Doc')\n",
    "classes"
   ]
  },
  {
   "cell_type": "code",
   "execution_count": null,
   "metadata": {},
   "outputs": [],
   "source": [
    "codes = pd.DataFrame(classes)"
   ]
  },
  {
   "cell_type": "code",
   "execution_count": null,
   "metadata": {},
   "outputs": [],
   "source": [
    "letter_codes = [#Here will be our list of class codes]\n",
    "number_codes = [#Here is where our number codes will be]\n",
    "class_codes_dictionary = {'3 letter code':letter_codes, 'Number codes':number_codes}\n",
    "code = input('Enter a 3 letter class code here: ')\n",
    "if code in classes\n",
    "    code = pd.DataFrame(classes, columns[#the class code that the user entered will be displayed with all the different classes you can take, ie; IST 256, HST 101])\n",
    "    code\n",
    "else:\n",
    "    print('This is not a valid class code, try again')"
   ]
  },
  {
   "cell_type": "code",
   "execution_count": null,
   "metadata": {},
   "outputs": [],
   "source": [
    "#Although our code is simple, the real challenge is going to be formatting the class codes and manually entering them all into our data set\n",
    "#In order for this to work, we need to put all of the number codes into a dictionary with each class code\n",
    "#We're gonna need help to get this all together of course, but our program will be more effective than myslice"
   ]
  }
 ],
 "metadata": {
  "kernelspec": {
   "display_name": "Python 3",
   "language": "python",
   "name": "python3"
  },
  "language_info": {
   "codemirror_mode": {
    "name": "ipython",
    "version": 3
   },
   "file_extension": ".py",
   "mimetype": "text/x-python",
   "name": "python",
   "nbconvert_exporter": "python",
   "pygments_lexer": "ipython3",
   "version": "3.6.6"
  }
 },
 "nbformat": 4,
 "nbformat_minor": 2
}
