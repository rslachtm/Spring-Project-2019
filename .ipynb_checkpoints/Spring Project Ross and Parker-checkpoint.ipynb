{
 "cells": [
  {
   "cell_type": "code",
   "execution_count": 2,
   "metadata": {},
   "outputs": [],
   "source": [
    "import pandas as pd\n",
    "import json\n",
    "import requests\n",
    "import numpy"
   ]
  },
  {
   "cell_type": "code",
   "execution_count": null,
   "metadata": {},
   "outputs": [],
   "source": [
    "df = pd.read_csv('Class_Codes.csv', encoding='cp1252')\n",
    "df\n"
   ]
  },
  {
   "cell_type": "markdown",
   "metadata": {},
   "source": [
    "# Look for a specific class code here:"
   ]
  },
  {
   "cell_type": "code",
   "execution_count": null,
   "metadata": {},
   "outputs": [],
   "source": [
    "df = pd.read_csv('Class_Codes.csv', encoding='cp1252')\n",
    "course = input('Enter a 3 letter code here: ').upper()\n",
    "for col in list(df):\n",
    "    df[col] == course\n",
    "    course_code = df[ df[col] == course]\n",
    "    print(course_code)"
   ]
  },
  {
   "cell_type": "markdown",
   "metadata": {},
   "source": [
    "# Look for a specific number code here:"
   ]
  },
  {
   "cell_type": "code",
   "execution_count": null,
   "metadata": {},
   "outputs": [],
   "source": [
    "df = pd.read_csv('Class_Codes.csv', encoding='cp1252')\n",
    "number = input('Enter a number code here: ').upper()\n",
    "for col in list(df):\n",
    "    df[col] == number\n",
    "    course_number = df[df[col] == number]\n",
    "    print(course_number)"
   ]
  },
  {
   "cell_type": "markdown",
   "metadata": {},
   "source": [
    "# Now, using the tools above, search for some classes and enter them into your schedule:"
   ]
  },
  {
   "cell_type": "code",
   "execution_count": 5,
   "metadata": {},
   "outputs": [
    {
     "name": "stdout",
     "output_type": "stream",
     "text": [
      "How many classes are you taking?: 4\n",
      "Enter a class code here: IST\n",
      "Enter a number code here: 101\n",
      "Enter a time that you want to take this class: 3-5\n",
      "Enter the building you want to take this class in: Hinds Hall\n",
      "What Day of the week are you taking this class?: MWF\n",
      "Enter a class code here: IST\n",
      "Enter a number code here: 195\n",
      "Enter a time that you want to take this class: 11-12\n",
      "Enter the building you want to take this class in: Falk\n",
      "What Day of the week are you taking this class?: TTH\n",
      "Enter a class code here: NSD\n",
      "Enter a number code here: 225\n",
      "Enter a time that you want to take this class: 10-11\n",
      "Enter the building you want to take this class in: Falk\n",
      "What Day of the week are you taking this class?: MW\n",
      "Enter a class code here: HOA\n",
      "Enter a number code here: 101\n",
      "Enter a time that you want to take this class: 4-6\n",
      "Enter the building you want to take this class in: Heroy Geology Bulding\n",
      "What Day of the week are you taking this class?: TTH\n",
      "     0    1      2                      3    4\n",
      "0  IST  101    3-5             Hinds Hall  MWF\n",
      "1  IST  195  11-12                   Falk  TTH\n",
      "2  NSD  225  10-11                   Falk   MW\n",
      "3  HOA  101    4-6  Heroy Geology Bulding  TTH\n"
     ]
    }
   ],
   "source": [
    "df = pd.read_csv('Class_Codes.csv', encoding='cp1252')\n",
    "schedule = []\n",
    "classnum=eval(input(\"How many classes are you taking?: \"))\n",
    "for i in range(classnum):\n",
    "    Class=[]\n",
    "    class_code = input('Enter a class code here: ').upper()\n",
    "    Class.append(class_code)\n",
    "    number_code = input('Enter a number code here: ')\n",
    "    Class.append(number_code)\n",
    "    time = input('Enter a time that you want to take this class: ')\n",
    "    Class.append(time)\n",
    "    location = input('Enter the building you want to take this class in: ')\n",
    "    Class.append(location)\n",
    "    day = input('What Day of the week are you taking this class?: ')\n",
    "    Class.append(day)\n",
    "    schedule.append(Class)\n",
    "    if class_code == 'Done':\n",
    "        break\n",
    "    if number_code == 'Done':\n",
    "        break\n",
    "    if time == 'Done':\n",
    "        break\n",
    "    if location == 'Done':\n",
    "        break\n",
    "    if day == 'Done':\n",
    "        break\n",
    "\n",
    "df = pd.DataFrame(schedule)\n",
    "print(df)"
   ]
  },
  {
   "cell_type": "code",
   "execution_count": null,
   "metadata": {},
   "outputs": [],
   "source": []
  }
 ],
 "metadata": {
  "kernelspec": {
   "display_name": "Python 3",
   "language": "python",
   "name": "python3"
  },
  "language_info": {
   "codemirror_mode": {
    "name": "ipython",
    "version": 3
   },
   "file_extension": ".py",
   "mimetype": "text/x-python",
   "name": "python",
   "nbconvert_exporter": "python",
   "pygments_lexer": "ipython3",
   "version": "3.6.6"
  }
 },
 "nbformat": 4,
 "nbformat_minor": 2
}
